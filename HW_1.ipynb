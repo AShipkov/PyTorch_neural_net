{
 "cells": [
  {
   "cell_type": "markdown",
   "metadata": {
    "id": "qO42sqw4FYwR"
   },
   "source": [
    "## Нахождение сложной производной."
   ]
  },
  {
   "cell_type": "code",
   "execution_count": 1,
   "metadata": {
    "id": "XdrVPfSrFeeF"
   },
   "outputs": [],
   "source": [
    "import torch"
   ]
  },
  {
   "cell_type": "code",
   "execution_count": 2,
   "metadata": {
    "id": "mr8wg6K2C0mY"
   },
   "outputs": [],
   "source": [
    "def find_x_derivative(x, y):\n",
    "    x = torch.tensor(x, dtype=float, requires_grad=True)\n",
    "    y = torch.tensor(y, dtype=float, requires_grad=True)\n",
    "    function = torch.sin(torch.tan(x)*(x*x/y) + torch.log( torch.exp(-x*x+3) + x*x*x*y) ) * torch.tan( x*x*(torch.exp(x**9)) )\n",
    "    function.sum().backward()   \n",
    "    return x.grad"
   ]
  },
  {
   "cell_type": "code",
   "execution_count": 3,
   "metadata": {
    "colab": {
     "base_uri": "https://localhost:8080/"
    },
    "id": "angw2mF-DEr_",
    "outputId": "d8767bac-9623-43f6-a42c-6a9f2fa1b561"
   },
   "outputs": [
    {
     "data": {
      "text/plain": [
       "tensor(-16.5969, dtype=torch.float64)"
      ]
     },
     "execution_count": 3,
     "metadata": {
      "tags": []
     },
     "output_type": "execute_result"
    }
   ],
   "source": [
    "find_x_derivative(1, 1)"
   ]
  },
  {
   "cell_type": "code",
   "execution_count": 4,
   "metadata": {
    "colab": {
     "base_uri": "https://localhost:8080/"
    },
    "id": "y4QZJ8RmDE2-",
    "outputId": "0d78258c-42c0-4704-a6f4-192e6e8ef266"
   },
   "outputs": [
    {
     "data": {
      "text/plain": [
       "tensor([[-0.2740, -0.7018,  1.6649],\n",
       "        [-1.3856,  1.0756, -0.5704],\n",
       "        [ 0.7950, -0.1246, -0.5731]])"
      ]
     },
     "execution_count": 4,
     "metadata": {
      "tags": []
     },
     "output_type": "execute_result"
    }
   ],
   "source": [
    "A = torch.randn(3, 3)\n",
    "A.numpy()\n",
    "A"
   ]
  },
  {
   "cell_type": "code",
   "execution_count": 5,
   "metadata": {
    "colab": {
     "base_uri": "https://localhost:8080/"
    },
    "id": "iLevYcGvC1Vn",
    "outputId": "8db4f231-4c12-496d-b971-081a92c8b063"
   },
   "outputs": [
    {
     "data": {
      "text/plain": [
       "tensor([[-0.2913,  0.6530, -0.2065],\n",
       "        [-1.5874, -0.0867,  0.7816],\n",
       "        [ 0.9570,  1.5244,  0.9823]])"
      ]
     },
     "execution_count": 5,
     "metadata": {
      "tags": []
     },
     "output_type": "execute_result"
    }
   ],
   "source": [
    "B = torch.randn(3, 3)\n",
    "B.numpy()\n",
    "B"
   ]
  },
  {
   "cell_type": "code",
   "execution_count": 6,
   "metadata": {
    "colab": {
     "base_uri": "https://localhost:8080/"
    },
    "id": "ekue5lbhEo09",
    "outputId": "95837aa0-bbba-4458-e30d-c8d3ed9cada6"
   },
   "outputs": [
    {
     "name": "stderr",
     "output_type": "stream",
     "text": [
      "/usr/local/lib/python3.7/dist-packages/ipykernel_launcher.py:2: UserWarning: To copy construct from a tensor, it is recommended to use sourceTensor.clone().detach() or sourceTensor.clone().detach().requires_grad_(True), rather than torch.tensor(sourceTensor).\n",
      "  \n",
      "/usr/local/lib/python3.7/dist-packages/ipykernel_launcher.py:3: UserWarning: To copy construct from a tensor, it is recommended to use sourceTensor.clone().detach() or sourceTensor.clone().detach().requires_grad_(True), rather than torch.tensor(sourceTensor).\n",
      "  This is separate from the ipykernel package so we can avoid doing imports until\n"
     ]
    },
    {
     "data": {
      "text/plain": [
       "tensor([[-5.9504e-02, -1.9832e+00,  4.4657e+46],\n",
       "        [ 1.6065e-06,  1.1047e+04, -1.5022e+00],\n",
       "        [-1.1834e+00, -4.3713e-02, -1.4281e+00]], dtype=torch.float64)"
      ]
     },
     "execution_count": 6,
     "metadata": {
      "tags": []
     },
     "output_type": "execute_result"
    }
   ],
   "source": [
    "find_x_derivative(A, B)"
   ]
  },
  {
   "cell_type": "markdown",
   "metadata": {
    "id": "U5XxCa3pFWeg"
   },
   "source": [
    "## Нахождение косинусной близости"
   ]
  },
  {
   "cell_type": "code",
   "execution_count": 7,
   "metadata": {
    "id": "1vdJT0cNFR21"
   },
   "outputs": [],
   "source": [
    "def get_cos_sim(A, B):\n",
    "    A = torch.tensor(A, dtype = float)\n",
    "    B = torch.tensor(B, dtype = float)\n",
    "    B = B.t()    \n",
    "    norm_a = torch.norm(A, dim=1)\n",
    "    norm_b = torch.norm(B, dim=0)\n",
    "    A = A / norm_a\n",
    "    B = B / norm_b\n",
    "    B = B.t()\n",
    "    return torch.mm(A, B)"
   ]
  },
  {
   "cell_type": "code",
   "execution_count": 8,
   "metadata": {
    "colab": {
     "base_uri": "https://localhost:8080/"
    },
    "id": "8c1fViwLG_uY",
    "outputId": "48fcbda4-6d13-4e24-818b-a787b68c0e0f"
   },
   "outputs": [
    {
     "data": {
      "text/plain": [
       "tensor([[ 2.1696, -0.2847,  2.0447],\n",
       "        [ 2.1199,  0.6940,  1.5023],\n",
       "        [ 1.3896,  0.7369,  2.6830]])"
      ]
     },
     "execution_count": 8,
     "metadata": {
      "tags": []
     },
     "output_type": "execute_result"
    }
   ],
   "source": [
    "A = torch.randn(3, 3)\n",
    "A.numpy()\n",
    "A"
   ]
  },
  {
   "cell_type": "code",
   "execution_count": 9,
   "metadata": {
    "colab": {
     "base_uri": "https://localhost:8080/"
    },
    "id": "KAkIXPAGHDGY",
    "outputId": "3190405d-b078-49a5-dff3-6987d5849845"
   },
   "outputs": [
    {
     "data": {
      "text/plain": [
       "tensor([[ 0.5072, -1.2791,  1.9336],\n",
       "        [ 0.5123, -0.4821, -1.6305],\n",
       "        [-0.3900, -0.3031,  0.9171]])"
      ]
     },
     "execution_count": 9,
     "metadata": {
      "tags": []
     },
     "output_type": "execute_result"
    }
   ],
   "source": [
    "B = torch.randn(3, 3)\n",
    "B.numpy()\n",
    "B"
   ]
  },
  {
   "cell_type": "code",
   "execution_count": 10,
   "metadata": {
    "colab": {
     "base_uri": "https://localhost:8080/"
    },
    "id": "g1rHGwt_G8Kh",
    "outputId": "2749ea3a-5b9f-40b1-fb44-6ba65196943d"
   },
   "outputs": [
    {
     "name": "stderr",
     "output_type": "stream",
     "text": [
      "/usr/local/lib/python3.7/dist-packages/ipykernel_launcher.py:2: UserWarning: To copy construct from a tensor, it is recommended to use sourceTensor.clone().detach() or sourceTensor.clone().detach().requires_grad_(True), rather than torch.tensor(sourceTensor).\n",
      "  \n",
      "/usr/local/lib/python3.7/dist-packages/ipykernel_launcher.py:3: UserWarning: To copy construct from a tensor, it is recommended to use sourceTensor.clone().detach() or sourceTensor.clone().detach().requires_grad_(True), rather than torch.tensor(sourceTensor).\n",
      "  This is separate from the ipykernel package so we can avoid doing imports until\n"
     ]
    },
    {
     "data": {
      "text/plain": [
       "tensor([[-0.1219, -0.5530,  1.2663],\n",
       "        [ 0.0449, -0.5921,  0.7651],\n",
       "        [-0.1448, -0.5755,  0.8860]], dtype=torch.float64)"
      ]
     },
     "execution_count": 10,
     "metadata": {
      "tags": []
     },
     "output_type": "execute_result"
    }
   ],
   "source": [
    "get_cos_sim(A, B)"
   ]
  },
  {
   "cell_type": "markdown",
   "metadata": {
    "id": "TxNoYwu5HM66"
   },
   "source": [
    "## Обучение своей нейронной сети"
   ]
  },
  {
   "cell_type": "code",
   "execution_count": 11,
   "metadata": {
    "id": "CE3mHtPzHP86"
   },
   "outputs": [],
   "source": [
    "from torch import nn \n",
    "from torch import optim\n",
    "import torchvision.transforms as transforms\n",
    "import matplotlib.pyplot as plt\n",
    "import torch, torchvision\n",
    "import torch.nn.functional as F\n",
    "import pandas as pd\n",
    "%matplotlib inline\n",
    "import os\n",
    "os.environ['KMP_DUPLICATE_LIB_OK']='True'"
   ]
  },
  {
   "cell_type": "code",
   "execution_count": 12,
   "metadata": {
    "colab": {
     "base_uri": "https://localhost:8080/",
     "height": 573,
     "referenced_widgets": [
      "d6b12698ec754438888cdc69cd2739a9",
      "e9e354e0c0754cfdb65206dd658ebdfb",
      "a4ca950a7a164388bed88421fcd5a991",
      "29cbe129238645189c7507a96c10effb",
      "1e0e2929078d4b01a4648278370148d6",
      "9fe42885a2c54509bf7b84a7a12a6c0d",
      "37b0e2e7523641c794c34d1868e5e2b3",
      "01bcfd36cafa4725a439d351d2dcb61c",
      "3d96e9ae49d045368687419b08d66794",
      "5a394182063f4ab9906d03d2246ce231",
      "473f79483b1b4db2be52d267a3761306",
      "d60cb0f95feb41cbbd15604cda001563",
      "b4dc50389fe64afb9a5bcd63aadb8191",
      "6b067885cd5944ee8db07df9786b13f3",
      "4dd6304fd52f4c3da47855841e9d064c",
      "bafc32ca33cb413897134e12170d6bcb",
      "a722b1a7e7b64a018db036dd63c8576f",
      "a97f4e2bc4ee4a1196e7716c1721a576",
      "e31e1bb926fb46d59fbf692ec12224da",
      "51e7601c03d94d3ab0f85657379bfccc",
      "d39b3731e0b34aa0b6375d38f313d29d",
      "4c1539aab43c4d35a9da664ffa1f10cc",
      "6167012e865f4414a801724c3416a9d8",
      "8276db29335b44c8bd8c2fd7265e08ad",
      "ee604fa68ac04674bad896c9dcd27c3d",
      "34a930ea511e40d2805735e4628ef302",
      "8eb749fa7a3c4743ab036cb40ec59988",
      "05f9ff388c804b21845cdccc82a5aa45",
      "2fdbd7bd45a84e24b8181c347e4c8a8e",
      "01a59d86392847678a566459a27a0801",
      "a4a3976d396848f6aed7c79289aef0b3",
      "b4a2d3ad4cf84b1197a12246022dcbe6"
     ]
    },
    "id": "T-o11mtVUfPi",
    "outputId": "1f15d724-1c8a-4f85-e251-9d3ef21596e7"
   },
   "outputs": [
    {
     "name": "stdout",
     "output_type": "stream",
     "text": [
      "Downloading http://fashion-mnist.s3-website.eu-central-1.amazonaws.com/train-images-idx3-ubyte.gz\n",
      "Downloading http://fashion-mnist.s3-website.eu-central-1.amazonaws.com/train-images-idx3-ubyte.gz to FashionMNIST/raw/train-images-idx3-ubyte.gz\n"
     ]
    },
    {
     "data": {
      "application/vnd.jupyter.widget-view+json": {
       "model_id": "d6b12698ec754438888cdc69cd2739a9",
       "version_major": 2,
       "version_minor": 0
      },
      "text/plain": [
       "HBox(children=(FloatProgress(value=0.0, max=26421880.0), HTML(value='')))"
      ]
     },
     "metadata": {
      "tags": []
     },
     "output_type": "display_data"
    },
    {
     "name": "stdout",
     "output_type": "stream",
     "text": [
      "\n",
      "Extracting FashionMNIST/raw/train-images-idx3-ubyte.gz to FashionMNIST/raw\n",
      "\n",
      "Downloading http://fashion-mnist.s3-website.eu-central-1.amazonaws.com/train-labels-idx1-ubyte.gz\n",
      "Downloading http://fashion-mnist.s3-website.eu-central-1.amazonaws.com/train-labels-idx1-ubyte.gz to FashionMNIST/raw/train-labels-idx1-ubyte.gz\n"
     ]
    },
    {
     "data": {
      "application/vnd.jupyter.widget-view+json": {
       "model_id": "3d96e9ae49d045368687419b08d66794",
       "version_major": 2,
       "version_minor": 0
      },
      "text/plain": [
       "HBox(children=(FloatProgress(value=0.0, max=29515.0), HTML(value='')))"
      ]
     },
     "metadata": {
      "tags": []
     },
     "output_type": "display_data"
    },
    {
     "name": "stdout",
     "output_type": "stream",
     "text": [
      "\n",
      "Extracting FashionMNIST/raw/train-labels-idx1-ubyte.gz to FashionMNIST/raw\n",
      "\n",
      "Downloading http://fashion-mnist.s3-website.eu-central-1.amazonaws.com/t10k-images-idx3-ubyte.gz\n",
      "Downloading http://fashion-mnist.s3-website.eu-central-1.amazonaws.com/t10k-images-idx3-ubyte.gz to FashionMNIST/raw/t10k-images-idx3-ubyte.gz\n"
     ]
    },
    {
     "data": {
      "application/vnd.jupyter.widget-view+json": {
       "model_id": "a722b1a7e7b64a018db036dd63c8576f",
       "version_major": 2,
       "version_minor": 0
      },
      "text/plain": [
       "HBox(children=(FloatProgress(value=0.0, max=4422102.0), HTML(value='')))"
      ]
     },
     "metadata": {
      "tags": []
     },
     "output_type": "display_data"
    },
    {
     "name": "stdout",
     "output_type": "stream",
     "text": [
      "\n",
      "Extracting FashionMNIST/raw/t10k-images-idx3-ubyte.gz to FashionMNIST/raw\n",
      "\n",
      "Downloading http://fashion-mnist.s3-website.eu-central-1.amazonaws.com/t10k-labels-idx1-ubyte.gz\n",
      "Downloading http://fashion-mnist.s3-website.eu-central-1.amazonaws.com/t10k-labels-idx1-ubyte.gz to FashionMNIST/raw/t10k-labels-idx1-ubyte.gz\n"
     ]
    },
    {
     "data": {
      "application/vnd.jupyter.widget-view+json": {
       "model_id": "ee604fa68ac04674bad896c9dcd27c3d",
       "version_major": 2,
       "version_minor": 0
      },
      "text/plain": [
       "HBox(children=(FloatProgress(value=0.0, max=5148.0), HTML(value='')))"
      ]
     },
     "metadata": {
      "tags": []
     },
     "output_type": "display_data"
    },
    {
     "name": "stdout",
     "output_type": "stream",
     "text": [
      "\n",
      "Extracting FashionMNIST/raw/t10k-labels-idx1-ubyte.gz to FashionMNIST/raw\n",
      "\n",
      "Processing...\n",
      "Done!\n"
     ]
    },
    {
     "name": "stderr",
     "output_type": "stream",
     "text": [
      "/usr/local/lib/python3.7/dist-packages/torchvision/datasets/mnist.py:502: UserWarning: The given NumPy array is not writeable, and PyTorch does not support non-writeable tensors. This means you can write to the underlying (supposedly non-writeable) NumPy array using the tensor. You may want to copy the array to protect its data or make it writeable before converting it to a tensor. This type of warning will be suppressed for the rest of this program. (Triggered internally at  /pytorch/torch/csrc/utils/tensor_numpy.cpp:143.)\n",
      "  return torch.from_numpy(parsed.astype(m[2], copy=False)).view(*s)\n"
     ]
    }
   ],
   "source": [
    "train_dataset = torchvision.datasets.FashionMNIST(root='',\n",
    "                                             train=True,  \n",
    "                                             transform=transforms.ToTensor(), \n",
    "                                             download=True)\n",
    "train_loader = torch.utils.data.DataLoader(dataset=train_dataset,\n",
    "                                           batch_size=64, \n",
    "                                           shuffle=True)\n",
    "\n",
    "image, label = train_dataset[0]"
   ]
  },
  {
   "cell_type": "code",
   "execution_count": 13,
   "metadata": {
    "id": "uLzF4eAuWbLn"
   },
   "outputs": [],
   "source": [
    "test_dataset = torchvision.datasets.FashionMNIST(root='', train=False,\n",
    "                                       download=True, transform=transforms.ToTensor())\n",
    "test_loader = torch.utils.data.DataLoader(test_dataset, batch_size=4,\n",
    "                                         shuffle=False)"
   ]
  },
  {
   "cell_type": "code",
   "execution_count": 14,
   "metadata": {
    "id": "87VZbhAXWgS2"
   },
   "outputs": [],
   "source": [
    "classes = ('Tshirt', 'Trouser', 'Pullover', 'Dress','Coat', 'Sandal', 'Shirt', 'Sneaker', 'Bag', 'AnkleBoot')\n",
    "device = torch.device(\"cuda:0\" if torch.cuda.is_available() else \"cpu\")"
   ]
  },
  {
   "cell_type": "code",
   "execution_count": 15,
   "metadata": {
    "id": "IhzFS_l2WrXt"
   },
   "outputs": [],
   "source": [
    "class FashionCNN(nn.Module):\n",
    "    def __init__(self):\n",
    "        super().__init__()\n",
    "        \n",
    "        self.layer1 = nn.Sequential(\n",
    "                nn.Conv2d(in_channels=1, out_channels=8, kernel_size=3, padding=1),\n",
    "                nn.ReLU(),\n",
    "                nn.Conv2d(in_channels=8, out_channels=16, kernel_size=3, padding=1),\n",
    "                nn.ReLU(),\n",
    "                nn.MaxPool2d(kernel_size=2, stride=2)\n",
    "            )    \n",
    "\n",
    "        self.layer2 = nn.Sequential(\n",
    "                nn.Conv2d(in_channels=16, out_channels=32, kernel_size=3, padding=1),\n",
    "                nn.ReLU(),\n",
    "                nn.Conv2d(in_channels=32, out_channels=64, kernel_size=3, padding=1),\n",
    "                nn.ReLU(),\n",
    "                nn.MaxPool2d(kernel_size=2, stride=2)\n",
    "            ) \n",
    "        \n",
    "        \n",
    "        self.fc1 = nn.Linear(64 * 7 * 7, 600)\n",
    "        self.fc2 = nn.Linear(600, 120)\n",
    "        self.fc3 = nn.Linear(120, 10)\n",
    "\n",
    "    def forward(self, x):\n",
    "        \n",
    "        out = self.layer1(x)\n",
    "        out = self.layer2(out)\n",
    "        out = out.view(out.size(0), -1)\n",
    "        \n",
    "        out = self.fc1(out)\n",
    "        out = self.fc2(out)\n",
    "        out = self.fc3(out)\n",
    "        \n",
    "        return out"
   ]
  },
  {
   "cell_type": "code",
   "execution_count": 16,
   "metadata": {
    "id": "xuhIslRhWuR-"
   },
   "outputs": [],
   "source": [
    "PATH = 'base_model.pth'"
   ]
  },
  {
   "cell_type": "code",
   "execution_count": 17,
   "metadata": {
    "colab": {
     "base_uri": "https://localhost:8080/"
    },
    "id": "004_bjiqWzpk",
    "outputId": "870b4137-ea99-49c4-b769-5299567c66c2"
   },
   "outputs": [
    {
     "name": "stdout",
     "output_type": "stream",
     "text": [
      "FashionCNN(\n",
      "  (layer1): Sequential(\n",
      "    (0): Conv2d(1, 8, kernel_size=(3, 3), stride=(1, 1), padding=(1, 1))\n",
      "    (1): ReLU()\n",
      "    (2): Conv2d(8, 16, kernel_size=(3, 3), stride=(1, 1), padding=(1, 1))\n",
      "    (3): ReLU()\n",
      "    (4): MaxPool2d(kernel_size=2, stride=2, padding=0, dilation=1, ceil_mode=False)\n",
      "  )\n",
      "  (layer2): Sequential(\n",
      "    (0): Conv2d(16, 32, kernel_size=(3, 3), stride=(1, 1), padding=(1, 1))\n",
      "    (1): ReLU()\n",
      "    (2): Conv2d(32, 64, kernel_size=(3, 3), stride=(1, 1), padding=(1, 1))\n",
      "    (3): ReLU()\n",
      "    (4): MaxPool2d(kernel_size=2, stride=2, padding=0, dilation=1, ceil_mode=False)\n",
      "  )\n",
      "  (fc1): Linear(in_features=3136, out_features=600, bias=True)\n",
      "  (fc2): Linear(in_features=600, out_features=120, bias=True)\n",
      "  (fc3): Linear(in_features=120, out_features=10, bias=True)\n",
      ")\n"
     ]
    }
   ],
   "source": [
    "base_net = FashionCNN().to(device)\n",
    "torch.save(base_net.state_dict(), PATH) #пригодится для сравнения результатов\n",
    "print(base_net)"
   ]
  },
  {
   "cell_type": "code",
   "execution_count": 18,
   "metadata": {
    "colab": {
     "base_uri": "https://localhost:8080/"
    },
    "id": "QEpUsF-wW760",
    "outputId": "2303dd72-330d-4176-eb26-afec3c10a7cf"
   },
   "outputs": [
    {
     "name": "stdout",
     "output_type": "stream",
     "text": [
      "[1, 1] loss_net_SGD: 0.0023\n",
      "[1, 151] loss_net_SGD: 0.3455\n",
      "[1, 301] loss_net_SGD: 0.3449\n",
      "[1, 451] loss_net_SGD: 0.3436\n",
      "[1, 601] loss_net_SGD: 0.3284\n",
      "[1, 751] loss_net_SGD: 0.1585\n",
      "[1, 901] loss_net_SGD: 0.1240\n",
      "[2, 1] loss_net_SGD: 0.0006\n",
      "[2, 151] loss_net_SGD: 0.1147\n",
      "[2, 301] loss_net_SGD: 0.1110\n",
      "[2, 451] loss_net_SGD: 0.1074\n",
      "[2, 601] loss_net_SGD: 0.1046\n",
      "[2, 751] loss_net_SGD: 0.1002\n",
      "[2, 901] loss_net_SGD: 0.0985\n",
      "[3, 1] loss_net_SGD: 0.0006\n",
      "[3, 151] loss_net_SGD: 0.0955\n",
      "[3, 301] loss_net_SGD: 0.0944\n",
      "[3, 451] loss_net_SGD: 0.0920\n",
      "[3, 601] loss_net_SGD: 0.0900\n",
      "[3, 751] loss_net_SGD: 0.0865\n",
      "[3, 901] loss_net_SGD: 0.0845\n",
      "[4, 1] loss_net_SGD: 0.0008\n",
      "[4, 151] loss_net_SGD: 0.0811\n",
      "[4, 301] loss_net_SGD: 0.0804\n",
      "[4, 451] loss_net_SGD: 0.0793\n",
      "[4, 601] loss_net_SGD: 0.0765\n",
      "[4, 751] loss_net_SGD: 0.0758\n",
      "[4, 901] loss_net_SGD: 0.0751\n",
      "[5, 1] loss_net_SGD: 0.0004\n",
      "[5, 151] loss_net_SGD: 0.0704\n",
      "[5, 301] loss_net_SGD: 0.0747\n",
      "[5, 451] loss_net_SGD: 0.0694\n",
      "[5, 601] loss_net_SGD: 0.0693\n",
      "[5, 751] loss_net_SGD: 0.0677\n",
      "[5, 901] loss_net_SGD: 0.0675\n"
     ]
    }
   ],
   "source": [
    "net_SGD = FashionCNN().eval().to(device)\n",
    "net_SGD.load_state_dict(torch.load(PATH))\n",
    "criterion = nn.CrossEntropyLoss()\n",
    "optimizer = optim.SGD(net_SGD.parameters(), lr=0.001, momentum=0.9)\n",
    "\n",
    "net_SGD.train()\n",
    "for epoch in range(5):  \n",
    "    running_loss = 0.0\n",
    "    for i, data in enumerate(train_loader, 0):\n",
    "        inputs, labels = data[0], data[1]\n",
    "        inputs, labels = inputs.to(device), labels.to(device)\n",
    "        optimizer.zero_grad()\n",
    "        outputs = net_SGD(inputs)\n",
    "        loss = criterion(outputs, labels)\n",
    "        loss.backward()\n",
    "        optimizer.step()\n",
    "\n",
    "        running_loss += loss.item()\n",
    "        if i % 150 == 0: \n",
    "            print('[%d, %1d] loss_net_SGD: %.4f' % (epoch + 1, i + 1, running_loss / 1000))\n",
    "            running_loss = 0.0"
   ]
  },
  {
   "cell_type": "code",
   "execution_count": 19,
   "metadata": {
    "id": "30KwFXDdXMls"
   },
   "outputs": [],
   "source": [
    "def calc_accuracy(model):\n",
    "    correct = 0\n",
    "    total = 0\n",
    "    with torch.no_grad():\n",
    "        for data in test_loader:\n",
    "            images, labels = data\n",
    "            images, labels = images.to(device), labels.to(device)\n",
    "\n",
    "            outputs = model(images)\n",
    "\n",
    "            _, predicted = torch.max(outputs.data, 1)\n",
    "            total += labels.size(0)\n",
    "            correct += (predicted == labels).sum().item()\n",
    "    return correct / total"
   ]
  },
  {
   "cell_type": "code",
   "execution_count": 20,
   "metadata": {
    "id": "pXqGTbWjVlqf"
   },
   "outputs": [],
   "source": [
    "result = {}\n",
    "result['net_SGD'] = calc_accuracy(net_SGD)"
   ]
  },
  {
   "cell_type": "code",
   "execution_count": 21,
   "metadata": {
    "colab": {
     "base_uri": "https://localhost:8080/"
    },
    "id": "4ewoIX-1Xfv0",
    "outputId": "2e3ebff4-0801-4873-d1b8-270d362e6d79"
   },
   "outputs": [
    {
     "name": "stdout",
     "output_type": "stream",
     "text": [
      "[1, 1] loss_net_Adagard: 0.0023\n",
      "[1, 151] loss_net_Adagard: 0.1433\n",
      "[1, 301] loss_net_Adagard: 0.1049\n",
      "[1, 451] loss_net_Adagard: 0.0966\n",
      "[1, 601] loss_net_Adagard: 0.0926\n",
      "[1, 751] loss_net_Adagard: 0.0895\n",
      "[1, 901] loss_net_Adagard: 0.0866\n",
      "[2, 1] loss_net_Adagard: 0.0007\n",
      "[2, 151] loss_net_Adagard: 0.0842\n",
      "[2, 301] loss_net_Adagard: 0.0816\n",
      "[2, 451] loss_net_Adagard: 0.0789\n",
      "[2, 601] loss_net_Adagard: 0.0793\n",
      "[2, 751] loss_net_Adagard: 0.0772\n",
      "[2, 901] loss_net_Adagard: 0.0764\n",
      "[3, 1] loss_net_Adagard: 0.0005\n",
      "[3, 151] loss_net_Adagard: 0.0734\n",
      "[3, 301] loss_net_Adagard: 0.0744\n",
      "[3, 451] loss_net_Adagard: 0.0753\n",
      "[3, 601] loss_net_Adagard: 0.0726\n",
      "[3, 751] loss_net_Adagard: 0.0711\n",
      "[3, 901] loss_net_Adagard: 0.0700\n",
      "[4, 1] loss_net_Adagard: 0.0006\n",
      "[4, 151] loss_net_Adagard: 0.0702\n",
      "[4, 301] loss_net_Adagard: 0.0680\n",
      "[4, 451] loss_net_Adagard: 0.0680\n",
      "[4, 601] loss_net_Adagard: 0.0677\n",
      "[4, 751] loss_net_Adagard: 0.0673\n",
      "[4, 901] loss_net_Adagard: 0.0696\n",
      "[5, 1] loss_net_Adagard: 0.0006\n",
      "[5, 151] loss_net_Adagard: 0.0643\n",
      "[5, 301] loss_net_Adagard: 0.0671\n",
      "[5, 451] loss_net_Adagard: 0.0658\n",
      "[5, 601] loss_net_Adagard: 0.0636\n",
      "[5, 751] loss_net_Adagard: 0.0652\n",
      "[5, 901] loss_net_Adagard: 0.0655\n"
     ]
    }
   ],
   "source": [
    "net_Adagrad = FashionCNN().eval().to(device)\n",
    "net_Adagrad.load_state_dict(torch.load(PATH))\n",
    "\n",
    "criterion_2 = nn.CrossEntropyLoss()\n",
    "optimizer_2 = optim.Adagrad(net_Adagrad.parameters(), lr=0.001) \n",
    "\n",
    "net_Adagrad.train()\n",
    "for epoch in range(5):  \n",
    "    running_loss = 0.0\n",
    "    for i, data in enumerate(train_loader, 0):\n",
    "        inputs, labels = data[0], data[1]\n",
    "        inputs, labels = inputs.to(device), labels.to(device)\n",
    "        optimizer_2.zero_grad()\n",
    "        outputs = net_Adagrad(inputs)\n",
    "        loss = criterion_2(outputs, labels)\n",
    "        loss.backward()\n",
    "        optimizer_2.step()\n",
    "        running_loss += loss.item()\n",
    "        if i % 150 == 0: \n",
    "            print('[%d, %1d] loss_net_Adagard: %.4f' %(epoch + 1, i + 1, running_loss / 1000))\n",
    "            running_loss = 0.0\n",
    "result['net_Adagrad'] = calc_accuracy(net_Adagrad)"
   ]
  },
  {
   "cell_type": "code",
   "execution_count": 22,
   "metadata": {
    "colab": {
     "base_uri": "https://localhost:8080/"
    },
    "id": "mZ82GibhXqD9",
    "outputId": "43eabb9d-65c8-464a-af9b-52b3fe50e5d9"
   },
   "outputs": [
    {
     "name": "stdout",
     "output_type": "stream",
     "text": [
      "[1, 1] loss_net_Adam: 0.0023\n",
      "[1, 151] loss_net_Adam: 0.1199\n",
      "[1, 301] loss_net_Adam: 0.0758\n",
      "[1, 451] loss_net_Adam: 0.0645\n",
      "[1, 601] loss_net_Adam: 0.0577\n",
      "[1, 751] loss_net_Adam: 0.0517\n",
      "[1, 901] loss_net_Adam: 0.0506\n",
      "[2, 1] loss_net_Adam: 0.0003\n",
      "[2, 151] loss_net_Adam: 0.0461\n",
      "[2, 301] loss_net_Adam: 0.0447\n",
      "[2, 451] loss_net_Adam: 0.0431\n",
      "[2, 601] loss_net_Adam: 0.0441\n",
      "[2, 751] loss_net_Adam: 0.0438\n",
      "[2, 901] loss_net_Adam: 0.0421\n",
      "[3, 1] loss_net_Adam: 0.0002\n",
      "[3, 151] loss_net_Adam: 0.0397\n",
      "[3, 301] loss_net_Adam: 0.0387\n",
      "[3, 451] loss_net_Adam: 0.0367\n",
      "[3, 601] loss_net_Adam: 0.0374\n",
      "[3, 751] loss_net_Adam: 0.0374\n",
      "[3, 901] loss_net_Adam: 0.0385\n",
      "[4, 1] loss_net_Adam: 0.0002\n",
      "[4, 151] loss_net_Adam: 0.0329\n",
      "[4, 301] loss_net_Adam: 0.0340\n",
      "[4, 451] loss_net_Adam: 0.0333\n",
      "[4, 601] loss_net_Adam: 0.0347\n",
      "[4, 751] loss_net_Adam: 0.0353\n",
      "[4, 901] loss_net_Adam: 0.0326\n",
      "[5, 1] loss_net_Adam: 0.0004\n",
      "[5, 151] loss_net_Adam: 0.0312\n",
      "[5, 301] loss_net_Adam: 0.0315\n",
      "[5, 451] loss_net_Adam: 0.0312\n",
      "[5, 601] loss_net_Adam: 0.0303\n",
      "[5, 751] loss_net_Adam: 0.0323\n",
      "[5, 901] loss_net_Adam: 0.0312\n"
     ]
    }
   ],
   "source": [
    "net_Adam = FashionCNN().eval().to(device)\n",
    "net_Adam.load_state_dict(torch.load(PATH))   \n",
    "criterion_3 = nn.CrossEntropyLoss()\n",
    "optimizer_3 = optim.Adam(net_Adam.parameters(), lr=0.001) \n",
    "net_Adam.train()\n",
    "for epoch in range(5):  \n",
    "    running_loss = 0.0\n",
    "    for i, data in enumerate(train_loader, 0):\n",
    "        inputs, labels = data[0], data[1]\n",
    "        inputs, labels = inputs.to(device), labels.to(device)\n",
    "        optimizer_3.zero_grad()\n",
    "        outputs = net_Adam(inputs)\n",
    "        loss = criterion_3(outputs, labels)\n",
    "        loss.backward()\n",
    "        optimizer_3.step()\n",
    "        running_loss += loss.item()\n",
    "        if i % 150 == 0: \n",
    "            print('[%d, %1d] loss_net_Adam: %.4f' %(epoch + 1, i + 1, running_loss / 1000))\n",
    "            running_loss = 0.0\n",
    "\n",
    "result['net_Adam'] = calc_accuracy(net_Adam)"
   ]
  },
  {
   "cell_type": "code",
   "execution_count": 23,
   "metadata": {
    "colab": {
     "base_uri": "https://localhost:8080/",
     "height": 142
    },
    "id": "lw737TpNXwuH",
    "outputId": "8f852532-bb39-411c-e7c1-6fe0ce039802"
   },
   "outputs": [
    {
     "data": {
      "text/html": [
       "<div>\n",
       "<style scoped>\n",
       "    .dataframe tbody tr th:only-of-type {\n",
       "        vertical-align: middle;\n",
       "    }\n",
       "\n",
       "    .dataframe tbody tr th {\n",
       "        vertical-align: top;\n",
       "    }\n",
       "\n",
       "    .dataframe thead th {\n",
       "        text-align: right;\n",
       "    }\n",
       "</style>\n",
       "<table border=\"1\" class=\"dataframe\">\n",
       "  <thead>\n",
       "    <tr style=\"text-align: right;\">\n",
       "      <th></th>\n",
       "      <th>accuracy_test</th>\n",
       "    </tr>\n",
       "  </thead>\n",
       "  <tbody>\n",
       "    <tr>\n",
       "      <th>net_SGD</th>\n",
       "      <td>0.8254</td>\n",
       "    </tr>\n",
       "    <tr>\n",
       "      <th>net_Adagrad</th>\n",
       "      <td>0.8370</td>\n",
       "    </tr>\n",
       "    <tr>\n",
       "      <th>net_Adam</th>\n",
       "      <td>0.9071</td>\n",
       "    </tr>\n",
       "  </tbody>\n",
       "</table>\n",
       "</div>"
      ],
      "text/plain": [
       "             accuracy_test\n",
       "net_SGD             0.8254\n",
       "net_Adagrad         0.8370\n",
       "net_Adam            0.9071"
      ]
     },
     "execution_count": 23,
     "metadata": {
      "tags": []
     },
     "output_type": "execute_result"
    }
   ],
   "source": [
    "pd.DataFrame.from_dict(result, orient='index', columns = ['accuracy_test'])"
   ]
  },
  {
   "cell_type": "code",
   "execution_count": 24,
   "metadata": {
    "id": "aKiSHz2MXyDc"
   },
   "outputs": [],
   "source": [
    "data_iter = iter(test_loader)\n",
    "images, labels = data_iter.next()\n",
    "images, labels = images.to(device), labels.to(device)"
   ]
  },
  {
   "cell_type": "code",
   "execution_count": 25,
   "metadata": {
    "colab": {
     "base_uri": "https://localhost:8080/",
     "height": 138
    },
    "id": "pZ7-IHoBX1mn",
    "outputId": "997ca65d-0dd2-4341-f6d1-6459d8745a16"
   },
   "outputs": [
    {
     "data": {
      "image/png": "[encoded data removed]",
      "text/plain": [
       "<Figure size 432x288 with 1 Axes>"
      ]
     },
     "metadata": {
      "needs_background": "light",
      "tags": []
     },
     "output_type": "display_data"
    }
   ],
   "source": [
    "outputs = net_Adam(images)\n",
    "img = torchvision.utils.make_grid(images)\n",
    "img.permute(1, 2, 0).cpu().numpy()\n",
    "\n",
    "plt.imshow(img.permute(1, 2, 0).cpu().numpy())\n",
    "plt.show()"
   ]
  },
  {
   "cell_type": "code",
   "execution_count": 26,
   "metadata": {
    "colab": {
     "base_uri": "https://localhost:8080/"
    },
    "id": "nDwwQ3eTX8pk",
    "outputId": "7cf9e813-c1cf-44db-d505-995c22430332"
   },
   "outputs": [
    {
     "name": "stdout",
     "output_type": "stream",
     "text": [
      "Predicted:  AnkleBoot Pullover Trouser Trouser\n"
     ]
    }
   ],
   "source": [
    "_, predicted = torch.max(outputs, 1)\n",
    "print('Predicted: ', ' '.join('%s' % classes[predicted[i]]for i in range(4)))"
   ]
  }
 ],
 "metadata": {
  "accelerator": "GPU",
  "colab": {
   "name": "HW_1.ipynb",
   "provenance": []
  },
  "kernelspec": {
   "display_name": "Python 3",
   "language": "python",
   "name": "python3"
  },
  "language_info": {
   "codemirror_mode": {
    "name": "ipython",
    "version": 3
   },
   "file_extension": ".py",
   "mimetype": "text/x-python",
   "name": "python",
   "nbconvert_exporter": "python",
   "pygments_lexer": "ipython3",
   "version": "3.8.5"
  },
  "widgets": {
   "application/vnd.jupyter.widget-state+json": {
    "01a59d86392847678a566459a27a0801": {
     "model_module": "@jupyter-widgets/base",
     "model_name": "LayoutModel",
     "state": {
      "_model_module": "@jupyter-widgets/base",
      "_model_module_version": "1.2.0",
      "_model_name": "LayoutModel",
      "_view_count": null,
      "_view_module": "@jupyter-widgets/base",
      "_view_module_version": "1.2.0",
      "_view_name": "LayoutView",
      "align_content": null,
      "align_items": null,
      "align_self": null,
      "border": null,
      "bottom": null,
      "display": null,
      "flex": null,
      "flex_flow": null,
      "grid_area": null,
      "grid_auto_columns": null,
      "grid_auto_flow": null,
      "grid_auto_rows": null,
      "grid_column": null,
      "grid_gap": null,
      "grid_row": null,
      "grid_template_areas": null,
      "grid_template_columns": null,
      "grid_template_rows": null,
      "height": null,
      "justify_content": null,
      "justify_items": null,
      "left": null,
      "margin": null,
      "max_height": null,
      "max_width": null,
      "min_height": null,
      "min_width": null,
      "object_fit": null,
      "object_position": null,
      "order": null,
      "overflow": null,
      "overflow_x": null,
      "overflow_y": null,
      "padding": null,
      "right": null,
      "top": null,
      "visibility": null,
      "width": null
     }
    },
    "01bcfd36cafa4725a439d351d2dcb61c": {
     "model_module": "@jupyter-widgets/base",
     "model_name": "LayoutModel",
     "state": {
      "_model_module": "@jupyter-widgets/base",
      "_model_module_version": "1.2.0",
      "_model_name": "LayoutModel",
      "_view_count": null,
      "_view_module": "@jupyter-widgets/base",
      "_view_module_version": "1.2.0",
      "_view_name": "LayoutView",
      "align_content": null,
      "align_items": null,
      "align_self": null,
      "border": null,
      "bottom": null,
      "display": null,
      "flex": null,
      "flex_flow": null,
      "grid_area": null,
      "grid_auto_columns": null,
      "grid_auto_flow": null,
      "grid_auto_rows": null,
      "grid_column": null,
      "grid_gap": null,
      "grid_row": null,
      "grid_template_areas": null,
      "grid_template_columns": null,
      "grid_template_rows": null,
      "height": null,
      "justify_content": null,
      "justify_items": null,
      "left": null,
      "margin": null,
      "max_height": null,
      "max_width": null,
      "min_height": null,
      "min_width": null,
      "object_fit": null,
      "object_position": null,
      "order": null,
      "overflow": null,
      "overflow_x": null,
      "overflow_y": null,
      "padding": null,
      "right": null,
      "top": null,
      "visibility": null,
      "width": null
     }
    },
    "05f9ff388c804b21845cdccc82a5aa45": {
     "model_module": "@jupyter-widgets/controls",
     "model_name": "HTMLModel",
     "state": {
      "_dom_classes": [],
      "_model_module": "@jupyter-widgets/controls",
      "_model_module_version": "1.5.0",
      "_model_name": "HTMLModel",
      "_view_count": null,
      "_view_module": "@jupyter-widgets/controls",
      "_view_module_version": "1.5.0",
      "_view_name": "HTMLView",
      "description": "",
      "description_tooltip": null,
      "layout": "IPY_MODEL_b4a2d3ad4cf84b1197a12246022dcbe6",
      "placeholder": "​",
      "style": "IPY_MODEL_a4a3976d396848f6aed7c79289aef0b3",
      "value": " 6144/? [00:00&lt;00:00, 21285.26it/s]"
     }
    },
    "1e0e2929078d4b01a4648278370148d6": {
     "model_module": "@jupyter-widgets/controls",
     "model_name": "ProgressStyleModel",
     "state": {
      "_model_module": "@jupyter-widgets/controls",
      "_model_module_version": "1.5.0",
      "_model_name": "ProgressStyleModel",
      "_view_count": null,
      "_view_module": "@jupyter-widgets/base",
      "_view_module_version": "1.2.0",
      "_view_name": "StyleView",
      "bar_color": null,
      "description_width": "initial"
     }
    },
    "29cbe129238645189c7507a96c10effb": {
     "model_module": "@jupyter-widgets/controls",
     "model_name": "HTMLModel",
     "state": {
      "_dom_classes": [],
      "_model_module": "@jupyter-widgets/controls",
      "_model_module_version": "1.5.0",
      "_model_name": "HTMLModel",
      "_view_count": null,
      "_view_module": "@jupyter-widgets/controls",
      "_view_module_version": "1.5.0",
      "_view_name": "HTMLView",
      "description": "",
      "description_tooltip": null,
      "layout": "IPY_MODEL_01bcfd36cafa4725a439d351d2dcb61c",
      "placeholder": "​",
      "style": "IPY_MODEL_37b0e2e7523641c794c34d1868e5e2b3",
      "value": " 26422272/? [02:01&lt;00:00, 217357.01it/s]"
     }
    },
    "2fdbd7bd45a84e24b8181c347e4c8a8e": {
     "model_module": "@jupyter-widgets/controls",
     "model_name": "ProgressStyleModel",
     "state": {
      "_model_module": "@jupyter-widgets/controls",
      "_model_module_version": "1.5.0",
      "_model_name": "ProgressStyleModel",
      "_view_count": null,
      "_view_module": "@jupyter-widgets/base",
      "_view_module_version": "1.2.0",
      "_view_name": "StyleView",
      "bar_color": null,
      "description_width": "initial"
     }
    },
    "34a930ea511e40d2805735e4628ef302": {
     "model_module": "@jupyter-widgets/base",
     "model_name": "LayoutModel",
     "state": {
      "_model_module": "@jupyter-widgets/base",
      "_model_module_version": "1.2.0",
      "_model_name": "LayoutModel",
      "_view_count": null,
      "_view_module": "@jupyter-widgets/base",
      "_view_module_version": "1.2.0",
      "_view_name": "LayoutView",
      "align_content": null,
      "align_items": null,
      "align_self": null,
      "border": null,
      "bottom": null,
      "display": null,
      "flex": null,
      "flex_flow": null,
      "grid_area": null,
      "grid_auto_columns": null,
      "grid_auto_flow": null,
      "grid_auto_rows": null,
      "grid_column": null,
      "grid_gap": null,
      "grid_row": null,
      "grid_template_areas": null,
      "grid_template_columns": null,
      "grid_template_rows": null,
      "height": null,
      "justify_content": null,
      "justify_items": null,
      "left": null,
      "margin": null,
      "max_height": null,
      "max_width": null,
      "min_height": null,
      "min_width": null,
      "object_fit": null,
      "object_position": null,
      "order": null,
      "overflow": null,
      "overflow_x": null,
      "overflow_y": null,
      "padding": null,
      "right": null,
      "top": null,
      "visibility": null,
      "width": null
     }
    },
    "37b0e2e7523641c794c34d1868e5e2b3": {
     "model_module": "@jupyter-widgets/controls",
     "model_name": "DescriptionStyleModel",
     "state": {
      "_model_module": "@jupyter-widgets/controls",
      "_model_module_version": "1.5.0",
      "_model_name": "DescriptionStyleModel",
      "_view_count": null,
      "_view_module": "@jupyter-widgets/base",
      "_view_module_version": "1.2.0",
      "_view_name": "StyleView",
      "description_width": ""
     }
    },
    "3d96e9ae49d045368687419b08d66794": {
     "model_module": "@jupyter-widgets/controls",
     "model_name": "HBoxModel",
     "state": {
      "_dom_classes": [],
      "_model_module": "@jupyter-widgets/controls",
      "_model_module_version": "1.5.0",
      "_model_name": "HBoxModel",
      "_view_count": null,
      "_view_module": "@jupyter-widgets/controls",
      "_view_module_version": "1.5.0",
      "_view_name": "HBoxView",
      "box_style": "",
      "children": [
       "IPY_MODEL_473f79483b1b4db2be52d267a3761306",
       "IPY_MODEL_d60cb0f95feb41cbbd15604cda001563"
      ],
      "layout": "IPY_MODEL_5a394182063f4ab9906d03d2246ce231"
     }
    },
    "473f79483b1b4db2be52d267a3761306": {
     "model_module": "@jupyter-widgets/controls",
     "model_name": "FloatProgressModel",
     "state": {
      "_dom_classes": [],
      "_model_module": "@jupyter-widgets/controls",
      "_model_module_version": "1.5.0",
      "_model_name": "FloatProgressModel",
      "_view_count": null,
      "_view_module": "@jupyter-widgets/controls",
      "_view_module_version": "1.5.0",
      "_view_name": "ProgressView",
      "bar_style": "success",
      "description": "",
      "description_tooltip": null,
      "layout": "IPY_MODEL_6b067885cd5944ee8db07df9786b13f3",
      "max": 29515,
      "min": 0,
      "orientation": "horizontal",
      "style": "IPY_MODEL_b4dc50389fe64afb9a5bcd63aadb8191",
      "value": 29515
     }
    },
    "4c1539aab43c4d35a9da664ffa1f10cc": {
     "model_module": "@jupyter-widgets/base",
     "model_name": "LayoutModel",
     "state": {
      "_model_module": "@jupyter-widgets/base",
      "_model_module_version": "1.2.0",
      "_model_name": "LayoutModel",
      "_view_count": null,
      "_view_module": "@jupyter-widgets/base",
      "_view_module_version": "1.2.0",
      "_view_name": "LayoutView",
      "align_content": null,
      "align_items": null,
      "align_self": null,
      "border": null,
      "bottom": null,
      "display": null,
      "flex": null,
      "flex_flow": null,
      "grid_area": null,
      "grid_auto_columns": null,
      "grid_auto_flow": null,
      "grid_auto_rows": null,
      "grid_column": null,
      "grid_gap": null,
      "grid_row": null,
      "grid_template_areas": null,
      "grid_template_columns": null,
      "grid_template_rows": null,
      "height": null,
      "justify_content": null,
      "justify_items": null,
      "left": null,
      "margin": null,
      "max_height": null,
      "max_width": null,
      "min_height": null,
      "min_width": null,
      "object_fit": null,
      "object_position": null,
      "order": null,
      "overflow": null,
      "overflow_x": null,
      "overflow_y": null,
      "padding": null,
      "right": null,
      "top": null,
      "visibility": null,
      "width": null
     }
    },
    "4dd6304fd52f4c3da47855841e9d064c": {
     "model_module": "@jupyter-widgets/controls",
     "model_name": "DescriptionStyleModel",
     "state": {
      "_model_module": "@jupyter-widgets/controls",
      "_model_module_version": "1.5.0",
      "_model_name": "DescriptionStyleModel",
      "_view_count": null,
      "_view_module": "@jupyter-widgets/base",
      "_view_module_version": "1.2.0",
      "_view_name": "StyleView",
      "description_width": ""
     }
    },
    "51e7601c03d94d3ab0f85657379bfccc": {
     "model_module": "@jupyter-widgets/controls",
     "model_name": "HTMLModel",
     "state": {
      "_dom_classes": [],
      "_model_module": "@jupyter-widgets/controls",
      "_model_module_version": "1.5.0",
      "_model_name": "HTMLModel",
      "_view_count": null,
      "_view_module": "@jupyter-widgets/controls",
      "_view_module_version": "1.5.0",
      "_view_name": "HTMLView",
      "description": "",
      "description_tooltip": null,
      "layout": "IPY_MODEL_8276db29335b44c8bd8c2fd7265e08ad",
      "placeholder": "​",
      "style": "IPY_MODEL_6167012e865f4414a801724c3416a9d8",
      "value": " 4422656/? [01:57&lt;00:00, 37690.66it/s]"
     }
    },
    "5a394182063f4ab9906d03d2246ce231": {
     "model_module": "@jupyter-widgets/base",
     "model_name": "LayoutModel",
     "state": {
      "_model_module": "@jupyter-widgets/base",
      "_model_module_version": "1.2.0",
      "_model_name": "LayoutModel",
      "_view_count": null,
      "_view_module": "@jupyter-widgets/base",
      "_view_module_version": "1.2.0",
      "_view_name": "LayoutView",
      "align_content": null,
      "align_items": null,
      "align_self": null,
      "border": null,
      "bottom": null,
      "display": null,
      "flex": null,
      "flex_flow": null,
      "grid_area": null,
      "grid_auto_columns": null,
      "grid_auto_flow": null,
      "grid_auto_rows": null,
      "grid_column": null,
      "grid_gap": null,
      "grid_row": null,
      "grid_template_areas": null,
      "grid_template_columns": null,
      "grid_template_rows": null,
      "height": null,
      "justify_content": null,
      "justify_items": null,
      "left": null,
      "margin": null,
      "max_height": null,
      "max_width": null,
      "min_height": null,
      "min_width": null,
      "object_fit": null,
      "object_position": null,
      "order": null,
      "overflow": null,
      "overflow_x": null,
      "overflow_y": null,
      "padding": null,
      "right": null,
      "top": null,
      "visibility": null,
      "width": null
     }
    },
    "6167012e865f4414a801724c3416a9d8": {
     "model_module": "@jupyter-widgets/controls",
     "model_name": "DescriptionStyleModel",
     "state": {
      "_model_module": "@jupyter-widgets/controls",
      "_model_module_version": "1.5.0",
      "_model_name": "DescriptionStyleModel",
      "_view_count": null,
      "_view_module": "@jupyter-widgets/base",
      "_view_module_version": "1.2.0",
      "_view_name": "StyleView",
      "description_width": ""
     }
    },
    "6b067885cd5944ee8db07df9786b13f3": {
     "model_module": "@jupyter-widgets/base",
     "model_name": "LayoutModel",
     "state": {
      "_model_module": "@jupyter-widgets/base",
      "_model_module_version": "1.2.0",
      "_model_name": "LayoutModel",
      "_view_count": null,
      "_view_module": "@jupyter-widgets/base",
      "_view_module_version": "1.2.0",
      "_view_name": "LayoutView",
      "align_content": null,
      "align_items": null,
      "align_self": null,
      "border": null,
      "bottom": null,
      "display": null,
      "flex": null,
      "flex_flow": null,
      "grid_area": null,
      "grid_auto_columns": null,
      "grid_auto_flow": null,
      "grid_auto_rows": null,
      "grid_column": null,
      "grid_gap": null,
      "grid_row": null,
      "grid_template_areas": null,
      "grid_template_columns": null,
      "grid_template_rows": null,
      "height": null,
      "justify_content": null,
      "justify_items": null,
      "left": null,
      "margin": null,
      "max_height": null,
      "max_width": null,
      "min_height": null,
      "min_width": null,
      "object_fit": null,
      "object_position": null,
      "order": null,
      "overflow": null,
      "overflow_x": null,
      "overflow_y": null,
      "padding": null,
      "right": null,
      "top": null,
      "visibility": null,
      "width": null
     }
    },
    "8276db29335b44c8bd8c2fd7265e08ad": {
     "model_module": "@jupyter-widgets/base",
     "model_name": "LayoutModel",
     "state": {
      "_model_module": "@jupyter-widgets/base",
      "_model_module_version": "1.2.0",
      "_model_name": "LayoutModel",
      "_view_count": null,
      "_view_module": "@jupyter-widgets/base",
      "_view_module_version": "1.2.0",
      "_view_name": "LayoutView",
      "align_content": null,
      "align_items": null,
      "align_self": null,
      "border": null,
      "bottom": null,
      "display": null,
      "flex": null,
      "flex_flow": null,
      "grid_area": null,
      "grid_auto_columns": null,
      "grid_auto_flow": null,
      "grid_auto_rows": null,
      "grid_column": null,
      "grid_gap": null,
      "grid_row": null,
      "grid_template_areas": null,
      "grid_template_columns": null,
      "grid_template_rows": null,
      "height": null,
      "justify_content": null,
      "justify_items": null,
      "left": null,
      "margin": null,
      "max_height": null,
      "max_width": null,
      "min_height": null,
      "min_width": null,
      "object_fit": null,
      "object_position": null,
      "order": null,
      "overflow": null,
      "overflow_x": null,
      "overflow_y": null,
      "padding": null,
      "right": null,
      "top": null,
      "visibility": null,
      "width": null
     }
    },
    "8eb749fa7a3c4743ab036cb40ec59988": {
     "model_module": "@jupyter-widgets/controls",
     "model_name": "FloatProgressModel",
     "state": {
      "_dom_classes": [],
      "_model_module": "@jupyter-widgets/controls",
      "_model_module_version": "1.5.0",
      "_model_name": "FloatProgressModel",
      "_view_count": null,
      "_view_module": "@jupyter-widgets/controls",
      "_view_module_version": "1.5.0",
      "_view_name": "ProgressView",
      "bar_style": "success",
      "description": "",
      "description_tooltip": null,
      "layout": "IPY_MODEL_01a59d86392847678a566459a27a0801",
      "max": 5148,
      "min": 0,
      "orientation": "horizontal",
      "style": "IPY_MODEL_2fdbd7bd45a84e24b8181c347e4c8a8e",
      "value": 5148
     }
    },
    "9fe42885a2c54509bf7b84a7a12a6c0d": {
     "model_module": "@jupyter-widgets/base",
     "model_name": "LayoutModel",
     "state": {
      "_model_module": "@jupyter-widgets/base",
      "_model_module_version": "1.2.0",
      "_model_name": "LayoutModel",
      "_view_count": null,
      "_view_module": "@jupyter-widgets/base",
      "_view_module_version": "1.2.0",
      "_view_name": "LayoutView",
      "align_content": null,
      "align_items": null,
      "align_self": null,
      "border": null,
      "bottom": null,
      "display": null,
      "flex": null,
      "flex_flow": null,
      "grid_area": null,
      "grid_auto_columns": null,
      "grid_auto_flow": null,
      "grid_auto_rows": null,
      "grid_column": null,
      "grid_gap": null,
      "grid_row": null,
      "grid_template_areas": null,
      "grid_template_columns": null,
      "grid_template_rows": null,
      "height": null,
      "justify_content": null,
      "justify_items": null,
      "left": null,
      "margin": null,
      "max_height": null,
      "max_width": null,
      "min_height": null,
      "min_width": null,
      "object_fit": null,
      "object_position": null,
      "order": null,
      "overflow": null,
      "overflow_x": null,
      "overflow_y": null,
      "padding": null,
      "right": null,
      "top": null,
      "visibility": null,
      "width": null
     }
    },
    "a4a3976d396848f6aed7c79289aef0b3": {
     "model_module": "@jupyter-widgets/controls",
     "model_name": "DescriptionStyleModel",
     "state": {
      "_model_module": "@jupyter-widgets/controls",
      "_model_module_version": "1.5.0",
      "_model_name": "DescriptionStyleModel",
      "_view_count": null,
      "_view_module": "@jupyter-widgets/base",
      "_view_module_version": "1.2.0",
      "_view_name": "StyleView",
      "description_width": ""
     }
    },
    "a4ca950a7a164388bed88421fcd5a991": {
     "model_module": "@jupyter-widgets/controls",
     "model_name": "FloatProgressModel",
     "state": {
      "_dom_classes": [],
      "_model_module": "@jupyter-widgets/controls",
      "_model_module_version": "1.5.0",
      "_model_name": "FloatProgressModel",
      "_view_count": null,
      "_view_module": "@jupyter-widgets/controls",
      "_view_module_version": "1.5.0",
      "_view_name": "ProgressView",
      "bar_style": "success",
      "description": "",
      "description_tooltip": null,
      "layout": "IPY_MODEL_9fe42885a2c54509bf7b84a7a12a6c0d",
      "max": 26421880,
      "min": 0,
      "orientation": "horizontal",
      "style": "IPY_MODEL_1e0e2929078d4b01a4648278370148d6",
      "value": 26421880
     }
    },
    "a722b1a7e7b64a018db036dd63c8576f": {
     "model_module": "@jupyter-widgets/controls",
     "model_name": "HBoxModel",
     "state": {
      "_dom_classes": [],
      "_model_module": "@jupyter-widgets/controls",
      "_model_module_version": "1.5.0",
      "_model_name": "HBoxModel",
      "_view_count": null,
      "_view_module": "@jupyter-widgets/controls",
      "_view_module_version": "1.5.0",
      "_view_name": "HBoxView",
      "box_style": "",
      "children": [
       "IPY_MODEL_e31e1bb926fb46d59fbf692ec12224da",
       "IPY_MODEL_51e7601c03d94d3ab0f85657379bfccc"
      ],
      "layout": "IPY_MODEL_a97f4e2bc4ee4a1196e7716c1721a576"
     }
    },
    "a97f4e2bc4ee4a1196e7716c1721a576": {
     "model_module": "@jupyter-widgets/base",
     "model_name": "LayoutModel",
     "state": {
      "_model_module": "@jupyter-widgets/base",
      "_model_module_version": "1.2.0",
      "_model_name": "LayoutModel",
      "_view_count": null,
      "_view_module": "@jupyter-widgets/base",
      "_view_module_version": "1.2.0",
      "_view_name": "LayoutView",
      "align_content": null,
      "align_items": null,
      "align_self": null,
      "border": null,
      "bottom": null,
      "display": null,
      "flex": null,
      "flex_flow": null,
      "grid_area": null,
      "grid_auto_columns": null,
      "grid_auto_flow": null,
      "grid_auto_rows": null,
      "grid_column": null,
      "grid_gap": null,
      "grid_row": null,
      "grid_template_areas": null,
      "grid_template_columns": null,
      "grid_template_rows": null,
      "height": null,
      "justify_content": null,
      "justify_items": null,
      "left": null,
      "margin": null,
      "max_height": null,
      "max_width": null,
      "min_height": null,
      "min_width": null,
      "object_fit": null,
      "object_position": null,
      "order": null,
      "overflow": null,
      "overflow_x": null,
      "overflow_y": null,
      "padding": null,
      "right": null,
      "top": null,
      "visibility": null,
      "width": null
     }
    },
    "b4a2d3ad4cf84b1197a12246022dcbe6": {
     "model_module": "@jupyter-widgets/base",
     "model_name": "LayoutModel",
     "state": {
      "_model_module": "@jupyter-widgets/base",
      "_model_module_version": "1.2.0",
      "_model_name": "LayoutModel",
      "_view_count": null,
      "_view_module": "@jupyter-widgets/base",
      "_view_module_version": "1.2.0",
      "_view_name": "LayoutView",
      "align_content": null,
      "align_items": null,
      "align_self": null,
      "border": null,
      "bottom": null,
      "display": null,
      "flex": null,
      "flex_flow": null,
      "grid_area": null,
      "grid_auto_columns": null,
      "grid_auto_flow": null,
      "grid_auto_rows": null,
      "grid_column": null,
      "grid_gap": null,
      "grid_row": null,
      "grid_template_areas": null,
      "grid_template_columns": null,
      "grid_template_rows": null,
      "height": null,
      "justify_content": null,
      "justify_items": null,
      "left": null,
      "margin": null,
      "max_height": null,
      "max_width": null,
      "min_height": null,
      "min_width": null,
      "object_fit": null,
      "object_position": null,
      "order": null,
      "overflow": null,
      "overflow_x": null,
      "overflow_y": null,
      "padding": null,
      "right": null,
      "top": null,
      "visibility": null,
      "width": null
     }
    },
    "b4dc50389fe64afb9a5bcd63aadb8191": {
     "model_module": "@jupyter-widgets/controls",
     "model_name": "ProgressStyleModel",
     "state": {
      "_model_module": "@jupyter-widgets/controls",
      "_model_module_version": "1.5.0",
      "_model_name": "ProgressStyleModel",
      "_view_count": null,
      "_view_module": "@jupyter-widgets/base",
      "_view_module_version": "1.2.0",
      "_view_name": "StyleView",
      "bar_color": null,
      "description_width": "initial"
     }
    },
    "bafc32ca33cb413897134e12170d6bcb": {
     "model_module": "@jupyter-widgets/base",
     "model_name": "LayoutModel",
     "state": {
      "_model_module": "@jupyter-widgets/base",
      "_model_module_version": "1.2.0",
      "_model_name": "LayoutModel",
      "_view_count": null,
      "_view_module": "@jupyter-widgets/base",
      "_view_module_version": "1.2.0",
      "_view_name": "LayoutView",
      "align_content": null,
      "align_items": null,
      "align_self": null,
      "border": null,
      "bottom": null,
      "display": null,
      "flex": null,
      "flex_flow": null,
      "grid_area": null,
      "grid_auto_columns": null,
      "grid_auto_flow": null,
      "grid_auto_rows": null,
      "grid_column": null,
      "grid_gap": null,
      "grid_row": null,
      "grid_template_areas": null,
      "grid_template_columns": null,
      "grid_template_rows": null,
      "height": null,
      "justify_content": null,
      "justify_items": null,
      "left": null,
      "margin": null,
      "max_height": null,
      "max_width": null,
      "min_height": null,
      "min_width": null,
      "object_fit": null,
      "object_position": null,
      "order": null,
      "overflow": null,
      "overflow_x": null,
      "overflow_y": null,
      "padding": null,
      "right": null,
      "top": null,
      "visibility": null,
      "width": null
     }
    },
    "d39b3731e0b34aa0b6375d38f313d29d": {
     "model_module": "@jupyter-widgets/controls",
     "model_name": "ProgressStyleModel",
     "state": {
      "_model_module": "@jupyter-widgets/controls",
      "_model_module_version": "1.5.0",
      "_model_name": "ProgressStyleModel",
      "_view_count": null,
      "_view_module": "@jupyter-widgets/base",
      "_view_module_version": "1.2.0",
      "_view_name": "StyleView",
      "bar_color": null,
      "description_width": "initial"
     }
    },
    "d60cb0f95feb41cbbd15604cda001563": {
     "model_module": "@jupyter-widgets/controls",
     "model_name": "HTMLModel",
     "state": {
      "_dom_classes": [],
      "_model_module": "@jupyter-widgets/controls",
      "_model_module_version": "1.5.0",
      "_model_name": "HTMLModel",
      "_view_count": null,
      "_view_module": "@jupyter-widgets/controls",
      "_view_module_version": "1.5.0",
      "_view_name": "HTMLView",
      "description": "",
      "description_tooltip": null,
      "layout": "IPY_MODEL_bafc32ca33cb413897134e12170d6bcb",
      "placeholder": "​",
      "style": "IPY_MODEL_4dd6304fd52f4c3da47855841e9d064c",
      "value": " 29696/? [00:01&lt;00:00, 15713.65it/s]"
     }
    },
    "d6b12698ec754438888cdc69cd2739a9": {
     "model_module": "@jupyter-widgets/controls",
     "model_name": "HBoxModel",
     "state": {
      "_dom_classes": [],
      "_model_module": "@jupyter-widgets/controls",
      "_model_module_version": "1.5.0",
      "_model_name": "HBoxModel",
      "_view_count": null,
      "_view_module": "@jupyter-widgets/controls",
      "_view_module_version": "1.5.0",
      "_view_name": "HBoxView",
      "box_style": "",
      "children": [
       "IPY_MODEL_a4ca950a7a164388bed88421fcd5a991",
       "IPY_MODEL_29cbe129238645189c7507a96c10effb"
      ],
      "layout": "IPY_MODEL_e9e354e0c0754cfdb65206dd658ebdfb"
     }
    },
    "e31e1bb926fb46d59fbf692ec12224da": {
     "model_module": "@jupyter-widgets/controls",
     "model_name": "FloatProgressModel",
     "state": {
      "_dom_classes": [],
      "_model_module": "@jupyter-widgets/controls",
      "_model_module_version": "1.5.0",
      "_model_name": "FloatProgressModel",
      "_view_count": null,
      "_view_module": "@jupyter-widgets/controls",
      "_view_module_version": "1.5.0",
      "_view_name": "ProgressView",
      "bar_style": "success",
      "description": "",
      "description_tooltip": null,
      "layout": "IPY_MODEL_4c1539aab43c4d35a9da664ffa1f10cc",
      "max": 4422102,
      "min": 0,
      "orientation": "horizontal",
      "style": "IPY_MODEL_d39b3731e0b34aa0b6375d38f313d29d",
      "value": 4422102
     }
    },
    "e9e354e0c0754cfdb65206dd658ebdfb": {
     "model_module": "@jupyter-widgets/base",
     "model_name": "LayoutModel",
     "state": {
      "_model_module": "@jupyter-widgets/base",
      "_model_module_version": "1.2.0",
      "_model_name": "LayoutModel",
      "_view_count": null,
      "_view_module": "@jupyter-widgets/base",
      "_view_module_version": "1.2.0",
      "_view_name": "LayoutView",
      "align_content": null,
      "align_items": null,
      "align_self": null,
      "border": null,
      "bottom": null,
      "display": null,
      "flex": null,
      "flex_flow": null,
      "grid_area": null,
      "grid_auto_columns": null,
      "grid_auto_flow": null,
      "grid_auto_rows": null,
      "grid_column": null,
      "grid_gap": null,
      "grid_row": null,
      "grid_template_areas": null,
      "grid_template_columns": null,
      "grid_template_rows": null,
      "height": null,
      "justify_content": null,
      "justify_items": null,
      "left": null,
      "margin": null,
      "max_height": null,
      "max_width": null,
      "min_height": null,
      "min_width": null,
      "object_fit": null,
      "object_position": null,
      "order": null,
      "overflow": null,
      "overflow_x": null,
      "overflow_y": null,
      "padding": null,
      "right": null,
      "top": null,
      "visibility": null,
      "width": null
     }
    },
    "ee604fa68ac04674bad896c9dcd27c3d": {
     "model_module": "@jupyter-widgets/controls",
     "model_name": "HBoxModel",
     "state": {
      "_dom_classes": [],
      "_model_module": "@jupyter-widgets/controls",
      "_model_module_version": "1.5.0",
      "_model_name": "HBoxModel",
      "_view_count": null,
      "_view_module": "@jupyter-widgets/controls",
      "_view_module_version": "1.5.0",
      "_view_name": "HBoxView",
      "box_style": "",
      "children": [
       "IPY_MODEL_8eb749fa7a3c4743ab036cb40ec59988",
       "IPY_MODEL_05f9ff388c804b21845cdccc82a5aa45"
      ],
      "layout": "IPY_MODEL_34a930ea511e40d2805735e4628ef302"
     }
    }
   }
  }
 },
 "nbformat": 4,
 "nbformat_minor": 1
}
