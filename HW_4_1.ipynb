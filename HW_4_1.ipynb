{
  "nbformat": 4,
  "nbformat_minor": 0,
  "metadata": {
    "colab": {
      "name": "Untitled0.ipynb",
      "provenance": [],
      "toc_visible": true
    },
    "kernelspec": {
      "name": "python3",
      "display_name": "Python 3"
    },
    "language_info": {
      "name": "python"
    },
    "accelerator": "GPU"
  },
  "cells": [
    {
      "cell_type": "markdown",
      "metadata": {
        "id": "kqji9wbv9yFP"
      },
      "source": [
        "# Задание 1\n",
        "Как было сказано ранее, GAN обучается воспроизводить реальные данные. Поэтому Вам предлагается обучить генератор создавать точки, которые будут лежать на графике функции $y = \\frac{sin(x)}{x} - \\frac{x}{10}$. При выполненинии данного задания структура GAN остается той же, но Вам нужно:\n",
        "\n",
        "- Сгенерировать настоящие данные  \n",
        "- Изменить архитектуру дискриминатора и генератора  \n",
        "- Наличие графиков обязательно  "
      ]
    },
    {
      "cell_type": "code",
      "metadata": {
        "id": "9oARL5uf-AT0"
      },
      "source": [
        "import os\n",
        "import numpy as np\n",
        "import math\n",
        "\n",
        "from torch.utils.data import DataLoader, Dataset\n",
        "import torchvision.transforms as transforms\n",
        "from torchvision import datasets\n",
        "from torch.autograd import Variable\n",
        "\n",
        "import torch.nn as nn\n",
        "import torch\n",
        "\n",
        "import matplotlib.pyplot as plt\n",
        "from IPython import display\n",
        "from torchvision.utils import save_image, make_grid"
      ],
      "execution_count": 1,
      "outputs": []
    },
    {
      "cell_type": "code",
      "metadata": {
        "colab": {
          "base_uri": "https://localhost:8080/"
        },
        "id": "xLJ47TfN-Jdm",
        "outputId": "0847d3d9-c8ba-4f4a-d8da-c3306637ade3"
      },
      "source": [
        "x = np.linspace(-15, 15, 1001)\n",
        "if 0 in x:\n",
        "    print(\"Есть 0\")"
      ],
      "execution_count": 2,
      "outputs": [
        {
          "output_type": "stream",
          "text": [
            "Есть 0\n"
          ],
          "name": "stdout"
        }
      ]
    },
    {
      "cell_type": "code",
      "metadata": {
        "id": "aHkgToN8-Q3z"
      },
      "source": [
        "def func_y(x):    \n",
        "    if 0 in x:\n",
        "        x[x == 0] = 0.00001\n",
        "    return np.sin(x)/x - x/10"
      ],
      "execution_count": 3,
      "outputs": []
    },
    {
      "cell_type": "code",
      "metadata": {
        "colab": {
          "base_uri": "https://localhost:8080/",
          "height": 281
        },
        "id": "KfwtIVca-TwO",
        "outputId": "1a71edd2-ae02-4072-8d43-f621b42bc569"
      },
      "source": [
        "y = func_y(x)\n",
        "plt.plot(y, 'r')\n",
        "plt.grid(color=\"lightgrey\")\n",
        "plt.title('Исходная последовательность' )\n",
        "plt.show()"
      ],
      "execution_count": 4,
      "outputs": [
        {
          "output_type": "display_data",
          "data": {
            "image/png": "[encoded data removed]",
            "text/plain": [
              "<Figure size 432x288 with 1 Axes>"
            ]
          },
          "metadata": {
            "tags": [],
            "needs_background": "light"
          }
        }
      ]
    },
    {
      "cell_type": "code",
      "metadata": {
        "id": "6mkz1rs7-T7e"
      },
      "source": [
        "class Inc_Dataset(Dataset):\n",
        "    def __init__(self, b_border, u_border, point_number):\n",
        "        x = np.linspace(b_border, u_border, point_number)\n",
        "        if 0 in x:\n",
        "            x[x == 0] = 0.00001\n",
        "        self.data = x\n",
        "        self.labels = np.sin(x)/x - x/10\n",
        "\n",
        "\n",
        "    def __len__(self):\n",
        "        return len(self.data) \n",
        "    \n",
        "    \n",
        "    def __getitem__(self, idx):\n",
        "        item = self.data[idx]\n",
        "        label = self.labels[idx]\n",
        "        return (item, label)"
      ],
      "execution_count": 5,
      "outputs": []
    },
    {
      "cell_type": "code",
      "metadata": {
        "id": "JSIfGSiy-k5J"
      },
      "source": [
        "dataset = Inc_Dataset(-15, 15, 1001)"
      ],
      "execution_count": 6,
      "outputs": []
    },
    {
      "cell_type": "code",
      "metadata": {
        "id": "qQH1_wYl-k8q"
      },
      "source": [
        "split_train_part = 0.75\n",
        "batch_size = 16\n",
        "\n",
        "real_data_dataset, test_dataset = torch.utils.data.random_split(dataset, \n",
        "                                                            [int(split_train_part*dataset.data.shape[0]), \n",
        "                                                             dataset.data.shape[0] - int(split_train_part*dataset.data.shape[0])])\n",
        "real_data_loader = DataLoader(real_data_dataset, batch_size = batch_size, shuffle=True)\n",
        "test_loader = DataLoader(test_dataset, batch_size = 1, shuffle=False)"
      ],
      "execution_count": 15,
      "outputs": []
    },
    {
      "cell_type": "code",
      "metadata": {
        "colab": {
          "base_uri": "https://localhost:8080/"
        },
        "id": "Q4awQ-TC-lBx",
        "outputId": "c83d9c89-c7c8-4235-9ee2-bbc4b87db05d"
      },
      "source": [
        "device = torch.device('cuda') if torch.cuda.is_available() else torch.device('cpu')\n",
        "print(device)"
      ],
      "execution_count": 7,
      "outputs": [
        {
          "output_type": "stream",
          "text": [
            "cuda\n"
          ],
          "name": "stdout"
        }
      ]
    },
    {
      "cell_type": "markdown",
      "metadata": {
        "id": "9eD6kbRC_DrY"
      },
      "source": [
        "## Генератор"
      ]
    },
    {
      "cell_type": "code",
      "metadata": {
        "id": "vQVJ8oLH-UC0"
      },
      "source": [
        "class Generator(nn.Module):\n",
        "    def __init__(self):\n",
        "        super().__init__()\n",
        "        self.fc1 = nn.Linear(1, 32)\n",
        "        self.fc2 = nn.Linear(32, 32)\n",
        "        self.fc4 = nn.Linear(32, 1)\n",
        "        # self.sigm = nn.Sigmoid()\n",
        "        self.relu = nn.ReLU()\n",
        "        self.tanh = nn.Tanh()\n",
        "        # self.sph = nn.Softplus()\n",
        "\n",
        "    def forward(self, x):\n",
        "        # print(\"X размеры in: %s\\n\" % (x.shape,))\n",
        "        x = self.tanh(self.fc1(x))\n",
        "        # print(\"X размеры in: %s\\n\" % (x.shape,))\n",
        "        x = self.tanh(self.fc2(x))\n",
        "        # x = self.tanh(self.fc3(x))\n",
        "        x = self.fc4(x)\n",
        "        # print(\"X размеры in: %s\\n\" % (x.shape,))\n",
        "        return x"
      ],
      "execution_count": 8,
      "outputs": []
    },
    {
      "cell_type": "markdown",
      "metadata": {
        "id": "RAOqhDIY_Ow6"
      },
      "source": [
        "# Дискриминатор"
      ]
    },
    {
      "cell_type": "code",
      "metadata": {
        "id": "knjibYSm_K7o"
      },
      "source": [
        "class Discriminator(nn.Module):\n",
        "    def __init__(self):\n",
        "        super().__init__()\n",
        "        self.fc1 = nn.Linear(1, 128)\n",
        "        self.fc2 = nn.Linear(128, 128)\n",
        "        # self.fc3 = nn.Linear(128, 128)\n",
        "        self.fc4 = nn.Linear(128, 1)\n",
        "        self.sigm = nn.Sigmoid()\n",
        "        self.tanh = nn.Tanh()\n",
        "        self.relu = nn.ReLU()\n",
        "        # self.sfm = nn.Softmax()\n",
        "\n",
        "    def forward(self, x):\n",
        "        # print(\"X размеры d in: %s\\n\" % (x.shape,))\n",
        "        x = self.relu(self.fc1(x))\n",
        "        # print(\"X размеры fc1 sigm in: %s\\n\" % (x.shape,))\n",
        "        x = self.relu(self.fc2(x))\n",
        "        # x = self.relu(self.fc3(x))\n",
        "        x = self.sigm(self.fc4(x))\n",
        "        return x"
      ],
      "execution_count": 9,
      "outputs": []
    },
    {
      "cell_type": "markdown",
      "metadata": {
        "id": "jZXTZaet_a_f"
      },
      "source": [
        "# Инициализация"
      ]
    },
    {
      "cell_type": "code",
      "metadata": {
        "id": "EYZ8NsdX_K-p"
      },
      "source": [
        "n_epochs = 1000\n",
        "lr = 0.0001   # 0.0005\n",
        "\n",
        "b1 = 0.5\n",
        "b2 = 0.999\n",
        "\n",
        "sample_interval = 50"
      ],
      "execution_count": 10,
      "outputs": []
    },
    {
      "cell_type": "code",
      "metadata": {
        "id": "q_vfhITX_Xc5"
      },
      "source": [
        "generator = Generator().to(device)\n",
        "discriminator = Discriminator().to(device)\n",
        "\n",
        "optimizer_G = torch.optim.Adam(generator.parameters(), lr=lr, betas=(b1, b2))   # torch.optim.SGD(generator.parameters(), lr=lr, momentum=0.9)   # \n",
        "optimizer_D = torch.optim.Adam(discriminator.parameters(), lr=lr, betas=(b1, b2))   # torch.optim.SGD(discriminator.parameters(), lr=lr, momentum=0.9)   # \n",
        "\n",
        "adversarial_loss = torch.nn.BCELoss()   # nn.CrossEntropyLoss()"
      ],
      "execution_count": 11,
      "outputs": []
    },
    {
      "cell_type": "code",
      "metadata": {
        "id": "iqmGBKw9_Xgl"
      },
      "source": [
        "d_loss_history = []\n",
        "g_loss_history = []"
      ],
      "execution_count": 12,
      "outputs": []
    },
    {
      "cell_type": "code",
      "metadata": {
        "colab": {
          "base_uri": "https://localhost:8080/"
        },
        "id": "1_KL-10S_Xj9",
        "outputId": "cf3355ae-ec81-4530-c9ae-90cba933fc50"
      },
      "source": [
        "idx = torch.randperm(16)\n",
        "idx"
      ],
      "execution_count": 13,
      "outputs": [
        {
          "output_type": "execute_result",
          "data": {
            "text/plain": [
              "tensor([ 7,  9,  8,  3, 14,  1, 13, 11,  2, 10,  4, 12,  5, 15,  0,  6])"
            ]
          },
          "metadata": {
            "tags": []
          },
          "execution_count": 13
        }
      ]
    },
    {
      "cell_type": "code",
      "metadata": {
        "colab": {
          "base_uri": "https://localhost:8080/"
        },
        "id": "N-3v00Is_LCA",
        "outputId": "817423bc-b98f-4e87-9241-9c33f007ab11"
      },
      "source": [
        "for epoch in range(1):\n",
        "    for i, (number, labels) in enumerate(real_data_loader):\n",
        "\n",
        "##################### Лейблы для данных: 1 - настоящие, 0 - сгенерированные ########\n",
        "\n",
        "        valid = Variable(torch.FloatTensor(batch_size, 1).fill_(1.0), requires_grad=False).to(device)\n",
        "        fake = Variable(torch.FloatTensor(batch_size, 1).fill_(0.0), requires_grad=False).to(device)\n",
        "\n",
        "        real_number = Variable(number.type(torch.FloatTensor)).to(device)\n",
        "\n",
        "        #генерация шума\n",
        "        idx = torch.randperm(batch_size)\n",
        "        z = Variable(number[idx].type(torch.FloatTensor)).to(device)\n",
        "\n",
        "        print(f\"real_number: {real_number}\")\n",
        "        # print(f\"{z.shape}\")\n",
        "        print(f\"z: {z.view(16, 1)}\")\n",
        "        print(f\"{z.view(16, 1).shape}\")\n",
        "        # print(f\"z: {z}\")\n",
        "        # print(f\"real_number + z: {real_number + z}\")\n",
        "        print(f\"valid.shape: {valid.shape}\")\n",
        "        print(f\"fake.shape: {fake.shape}\")\n",
        "\n",
        "        break\n",
        "    break"
      ],
      "execution_count": 16,
      "outputs": [
        {
          "output_type": "stream",
          "text": [
            "real_number: tensor([-10.2600,   7.4400,   3.9600,  -9.7800, -14.5800,   8.1900,   1.0500,\n",
            "          8.0100,   9.3900,   5.1600, -11.6700,  12.5700, -14.5200, -11.0100,\n",
            "         -9.8700,   2.4300], device='cuda:0')\n",
            "z: tensor([[-10.2600],\n",
            "        [ -9.8700],\n",
            "        [  1.0500],\n",
            "        [  3.9600],\n",
            "        [-14.5800],\n",
            "        [ -9.7800],\n",
            "        [-11.6700],\n",
            "        [  8.1900],\n",
            "        [  7.4400],\n",
            "        [-11.0100],\n",
            "        [  9.3900],\n",
            "        [  8.0100],\n",
            "        [ 12.5700],\n",
            "        [  2.4300],\n",
            "        [  5.1600],\n",
            "        [-14.5200]], device='cuda:0')\n",
            "torch.Size([16, 1])\n",
            "valid.shape: torch.Size([16, 1])\n",
            "fake.shape: torch.Size([16, 1])\n"
          ],
          "name": "stdout"
        }
      ]
    },
    {
      "cell_type": "code",
      "metadata": {
        "colab": {
          "base_uri": "https://localhost:8080/",
          "height": 283
        },
        "id": "QnhwYMi5-UJL",
        "outputId": "a68921b9-108d-44ba-b851-bd26db89d985"
      },
      "source": [
        "import matplotlib.patches as mpatches\n",
        "\n",
        "red_patch = mpatches.Patch(color='red', label='D loss')\n",
        "green_patch = mpatches.Patch(color='green', label='G loss')\n",
        "\n",
        "g_loss_p = 1000\n",
        "ep_loss = 0\n",
        "n_epochs = 500\n",
        "\n",
        "for epoch in range(n_epochs):\n",
        "    for i, (number, labels) in enumerate(real_data_loader):\n",
        "\n",
        "##################### Лейблы для данных: 1 - настоящие, 0 - сгенерированные ########\n",
        "\n",
        "        valid = Variable(torch.FloatTensor(len(number), 1).fill_(1.0), requires_grad=False).to(device)\n",
        "        fake = Variable(torch.FloatTensor(len(labels), 1).fill_(0.0), requires_grad=False).to(device)\n",
        "\n",
        "        real_numbers = Variable(number.type(torch.FloatTensor)).to(device)\n",
        "\n",
        "######################  Тренировка генератора    ##########################\n",
        "\n",
        "        optimizer_G.zero_grad()\n",
        "    \n",
        "        #генерация шума\n",
        "        idx = torch.randperm(len(number))\n",
        "        z = Variable(number[idx].type(torch.FloatTensor)).to(device)\n",
        "\n",
        "        gen_numbers = generator(z.view(len(z), 1))\n",
        "\n",
        "        validity = discriminator(gen_numbers)\n",
        "        g_loss = adversarial_loss(validity, valid)\n",
        "        \n",
        "        g_loss.backward()\n",
        "        optimizer_G.step()\n",
        "\n",
        "        if g_loss < g_loss_p:\n",
        "            torch.save(generator.state_dict(), \"series_gan_loss_min.pth\")\n",
        "            g_loss_p = g_loss\n",
        "            ep_loss = epoch\n",
        "\n",
        "######################  Тренировка дискриминатора    ##########################\n",
        "\n",
        "        optimizer_D.zero_grad()\n",
        "\n",
        "        real_pred = discriminator(labels.view(len(labels), 1).type(torch.FloatTensor).to(device))\n",
        "        d_real_loss = adversarial_loss(real_pred, valid)\n",
        "\n",
        "        fake_pred = discriminator(gen_numbers.detach())\n",
        "        d_fake_loss = adversarial_loss(fake_pred, fake)\n",
        "\n",
        "        d_loss = (d_real_loss + d_fake_loss) / 2\n",
        "\n",
        "        d_loss.backward()\n",
        "        optimizer_D.step()\n",
        "        \n",
        "######## Отображение процесса обучения и вывод функций потерь ############\n",
        "\n",
        "        batches_done = epoch * len(real_data_loader) + i\n",
        "    \n",
        "        if batches_done % sample_interval == 0:\n",
        "            plt.clf()\n",
        "            \n",
        "            display.clear_output(wait=False)\n",
        "            # sample_image(gen_imgs)\n",
        "            print(\"[Epoch %d/%d] [Batch %d/%d] [D loss: %f] [G loss: %f]\"% (epoch, n_epochs, i, len(real_data_loader), d_loss.item(), g_loss.item()) ) \n",
        "            \n",
        "            # display.display(plt.gcf())\n",
        "\n",
        "            d_loss_history.append(d_loss)\n",
        "            g_loss_history.append(g_loss)\n",
        "\n",
        "            plt.plot(np.log(np.array(d_loss_history)), label='D loss', color = 'red')\n",
        "            plt.plot(np.log(np.array(g_loss_history)), label='G loss', color = 'green')\n",
        "            plt.legend(handles=[red_patch, green_patch])\n",
        "            plt.show()"
      ],
      "execution_count": 17,
      "outputs": [
        {
          "output_type": "stream",
          "text": [
            "[Epoch 498/500] [Batch 44/47] [D loss: 0.599620] [G loss: 0.813197]\n"
          ],
          "name": "stdout"
        },
        {
          "output_type": "display_data",
          "data": {
            "image/png": "[encoded data removed]",
            "text/plain": [
              "<Figure size 432x288 with 1 Axes>"
            ]
          },
          "metadata": {
            "tags": [],
            "needs_background": "light"
          }
        }
      ]
    },
    {
      "cell_type": "code",
      "metadata": {
        "id": "DytD5-EpAMCu"
      },
      "source": [
        "torch.save(generator.state_dict(), \"series_gan.pth\")"
      ],
      "execution_count": 18,
      "outputs": []
    },
    {
      "cell_type": "code",
      "metadata": {
        "colab": {
          "base_uri": "https://localhost:8080/"
        },
        "id": "cTJgm6gYAM8a",
        "outputId": "a733da14-43bf-4409-bf60-92df2242737d"
      },
      "source": [
        "generator_r = Generator().to(device)\n",
        "generator_r.load_state_dict(torch.load(\"series_gan_loss_min.pth\"))"
      ],
      "execution_count": 19,
      "outputs": [
        {
          "output_type": "execute_result",
          "data": {
            "text/plain": [
              "<All keys matched successfully>"
            ]
          },
          "metadata": {
            "tags": []
          },
          "execution_count": 19
        }
      ]
    },
    {
      "cell_type": "code",
      "metadata": {
        "colab": {
          "base_uri": "https://localhost:8080/",
          "height": 36
        },
        "id": "_Cq15zKAAM_f",
        "outputId": "8cdda469-1b08-4548-aa74-c4d70e327000"
      },
      "source": [
        "x =  np.linspace(-15, 15, 50)\n",
        "xt = torch.from_numpy(x).type(torch.FloatTensor).to(device)\n",
        "xt.type()"
      ],
      "execution_count": 20,
      "outputs": [
        {
          "output_type": "execute_result",
          "data": {
            "application/vnd.google.colaboratory.intrinsic+json": {
              "type": "string"
            },
            "text/plain": [
              "'torch.cuda.FloatTensor'"
            ]
          },
          "metadata": {
            "tags": []
          },
          "execution_count": 20
        }
      ]
    },
    {
      "cell_type": "code",
      "metadata": {
        "id": "PViOKLWmA4vd"
      },
      "source": [
        "gen_numbers = generator_r(xt.view(len(x), 1))"
      ],
      "execution_count": 21,
      "outputs": []
    },
    {
      "cell_type": "code",
      "metadata": {
        "colab": {
          "base_uri": "https://localhost:8080/",
          "height": 281
        },
        "id": "pl8nIFzXA43Z",
        "outputId": "f6dbbf2b-0953-4d73-abf2-07e3517eaa5f"
      },
      "source": [
        "plt.plot(x, gen_numbers.detach().cpu().numpy(), 'ro-', label=f\"модель: эпоха {ep_loss}\")\n",
        "plt.plot(x, func_y(x), 'bo-', label=f\"эталон по формуле\")\n",
        "\n",
        "plt.legend(loc=\"lower left\")\n",
        "plt.grid(color=\"lightgrey\")\n",
        "plt.title(f'Сравнение. Эпоха loss min {ep_loss}' )\n",
        "plt.show()"
      ],
      "execution_count": 22,
      "outputs": [
        {
          "output_type": "display_data",
          "data": {
            "image/png": "[encoded data removed]",
            "text/plain": [
              "<Figure size 432x288 with 1 Axes>"
            ]
          },
          "metadata": {
            "tags": [],
            "needs_background": "light"
          }
        }
      ]
    },
    {
      "cell_type": "code",
      "metadata": {
        "colab": {
          "base_uri": "https://localhost:8080/",
          "height": 281
        },
        "id": "akAfUSBUA465",
        "outputId": "c1a7246a-89bf-4aa7-d692-1bd2e2b9ffd6"
      },
      "source": [
        "generator_f = Generator().to(device)\n",
        "generator_f.load_state_dict(torch.load(\"series_gan.pth\"))\n",
        "\n",
        "gen_numbers_f = generator_f(xt.view(len(x), 1))\n",
        "\n",
        "plt.plot(x, gen_numbers_f.detach().cpu().numpy(), 'ro-', label=f\"модель: эпоха {n_epochs}\")\n",
        "plt.plot(x, func_y(x), 'bo-', label=f\"эталон по формуле\")\n",
        "\n",
        "plt.legend(loc=\"lower left\")\n",
        "plt.grid(color=\"lightgrey\")\n",
        "plt.title('Сравнение' )\n",
        "plt.show()"
      ],
      "execution_count": 23,
      "outputs": [
        {
          "output_type": "display_data",
          "data": {
            "image/png": "[encoded data removed]",
            "text/plain": [
              "<Figure size 432x288 with 1 Axes>"
            ]
          },
          "metadata": {
            "tags": [],
            "needs_background": "light"
          }
        }
      ]
    },
    {
      "cell_type": "markdown",
      "metadata": {
        "id": "hllURt0eBSso"
      },
      "source": [
        "# Тестовый dataset"
      ]
    },
    {
      "cell_type": "code",
      "metadata": {
        "id": "ynM0uJOeA5Am"
      },
      "source": [
        "x_test = []\n",
        "y_test = []\n",
        "\n",
        "for x, y in test_loader:\n",
        "    x_test.append(x), y_test.append(y)"
      ],
      "execution_count": 24,
      "outputs": []
    },
    {
      "cell_type": "code",
      "metadata": {
        "id": "ydzt0tM3BWl0"
      },
      "source": [
        "xt = torch.FloatTensor(x_test).to(device)\n",
        "gen_numbers_t = generator_f(xt.view(len(x_test), 1))"
      ],
      "execution_count": 25,
      "outputs": []
    },
    {
      "cell_type": "code",
      "metadata": {
        "colab": {
          "base_uri": "https://localhost:8080/",
          "height": 281
        },
        "id": "1qUHI7_ZBWpf",
        "outputId": "075f552f-7cbf-43e6-bc94-eda25354af12"
      },
      "source": [
        "plt.plot(x_test, gen_numbers_t.detach().cpu().numpy(), 'ro', label=f\"модель: эпоха {n_epochs}\")\n",
        "plt.plot(x_test, y_test, 'bo', label=f\"test data\")\n",
        "\n",
        "plt.legend(loc=\"lower left\")\n",
        "plt.grid(color=\"lightgrey\")\n",
        "plt.title('Сравнение' )\n",
        "plt.show()"
      ],
      "execution_count": 26,
      "outputs": [
        {
          "output_type": "display_data",
          "data": {
            "image/png": "[encoded data removed]",
            "text/plain": [
              "<Figure size 432x288 with 1 Axes>"
            ]
          },
          "metadata": {
            "tags": [],
            "needs_background": "light"
          }
        }
      ]
    },
    {
      "cell_type": "code",
      "metadata": {
        "id": "RM5KTTo2BWuX"
      },
      "source": [
        ""
      ],
      "execution_count": null,
      "outputs": []
    }
  ]
}